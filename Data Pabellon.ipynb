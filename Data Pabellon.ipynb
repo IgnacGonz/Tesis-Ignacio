{
 "cells": [
  {
   "cell_type": "markdown",
   "id": "d974866a-508f-4241-9cb9-0ac34f2ecfbf",
   "metadata": {},
   "source": [
    "# Diccionario de la Data de Excel"
   ]
  },
  {
   "cell_type": "markdown",
   "id": "b1fbedc0-3352-4662-9e61-424572810ced",
   "metadata": {},
   "source": [
    "## Del Excel \"Tratatamiento de Datos\""
   ]
  },
  {
   "cell_type": "markdown",
   "id": "938c99aa-8302-4388-8f06-797f3079a3e2",
   "metadata": {},
   "source": [
    "- **INGRESO:** ID de Paciente con Digito Verificador\n",
    "- **ID_INGRESO:** ID de Paciente sin Digito Verificador\n",
    "- **ELEC_URG:** Dice si es Intervencion de Urgencia o Programada (ELEC, URG)\n",
    "- **AMB_HOSP:** Dice si el Paciente requiere Hospitalizacion o si es Ambulatorio (HOSP, AMB)\n",
    "- **DHING:** Fecha y Hora de Ingreso del Paciente\n",
    "- **DHEG:** Fecha y Hora de Egreso de Paciente\n",
    "- **HRSEST:** Horas entre el Ingreso y Egreso\n",
    "- **HRSESTPOSTPAB:** Horas de Post Operatorio del Paciente\n",
    "- **INIPAB:** Fecha y Hora de Inicio de la Cirugua\n",
    "- **FINPAB:** Fecha y Hora de la Finalizacion de la Cirugia\n",
    "- **DURPAB:** Duracion de la Cirugia en Horas\n",
    "- **CIRUJANO:** Nombre del Cirujano a cargo del Paciente\n",
    "- **STAFF:** Dice si el CIRUJANO pertenece al Staff o no (S, N)\n",
    "- **ESPECIALIDAD_MEDICO:** Especialidad del Medico\n",
    "- **COMUNA:** Comuna de Origen del Paciente\n",
    "- **EDAD:** Edad en años del Paciente\n",
    "- **ASEGURADOR:** Asegurador o Prevision del Paciente\n",
    "- **IPLAN:** Plan de Isapre o Convenio del Paciente\n",
    "- **CODCIRUGIA:** Codigo Interno de la Cirugia Principal a la que sometio el Paciente\n",
    "- **CIRUGIA:** Nombre de la Cirugia Principal a la que se sometio el Paciente\n",
    "- **ES_PQ:** Dice si la Cirugia es Paquetizada o no (PQ, AB)\n",
    "- **IND_COBRO_PAQUETE:**\n",
    "- **COD_PAQUETE:** Codigo Interno del Paquete de la Cirugia\n",
    "- **TIPO_TECNICA:** Codigo Interno del Tipo de Tecnica Utilizado en la Cirugia\n",
    "- **DESCRIPCION:** Descripcion de la Tecnica Utilizada en la Cirugia\n",
    "- **COD_CIRUGIAS:** Codigos Internos de Todas las Cirugias Realizadas al Paciente en Pabellon\n",
    "- **Nombre_CIRUJANO:** Nombre Completo del Cirujano a Cargo del Paciente\n",
    "- **Cantidad_Cirugias:** Numero de Cirugias Hechas al Paciente en Pabellon"
   ]
  },
  {
   "cell_type": "markdown",
   "id": "8cbdf48f-3baa-4641-a5c0-313b157db865",
   "metadata": {},
   "source": [
    "**Del Excel Anterior Solo se Utilizaran:**\n",
    "- INGRESO\n",
    "- ID_INGRESO\n",
    "- ELEC_URG\n",
    "- AMB_HOSP\n",
    "- DURPAB\n",
    "- STAFF\n",
    "- ESPECIALIDAD_MEDICO\n",
    "- COMUNA\n",
    "- EDAD\n",
    "- ASEGURADOR\n",
    "- IPLAN\n",
    "- COD_CIRUGIAS\n",
    "- Nombre_CIRUJANO\n",
    "- Cantidad_Cirugias"
   ]
  },
  {
   "cell_type": "markdown",
   "id": "ccf9667a-ecf7-4fff-b79f-d5a6583485a1",
   "metadata": {},
   "source": [
    "## Del los Excel de \"CONSUMOS\""
   ]
  },
  {
   "cell_type": "markdown",
   "id": "eb5abdfb-0f50-442c-ae5f-382388738834",
   "metadata": {},
   "source": [
    "En estos Excel's estan los datos de los insumos utilizados por paciente en cada cirugia desde el 2022 hasta el 2023, cada Excel tiene los datos de un trimestre, por lo tanto hay un total de 8 Archivos con Insumos por paciente."
   ]
  },
  {
   "cell_type": "markdown",
   "id": "07f69215-53bc-4216-a254-019358c77531",
   "metadata": {},
   "source": [
    "- **ID_INGRESO:** ID de Paciente sin Digito Verificador\n",
    "- **ID_LIQUIDACION:** Codigo Interno...(?)\n",
    "- **DV_ID_INGRESO:** Numero Verificador del ID del Paciente\n",
    "- **DESC_ITEM:** Area a la que Pertenece el Insumo\n",
    "- **FECHA_CONTABLE:** Fecha y Hora en la que se registro el Insumo\n",
    "- **FECHA_CONSUMO:** Fecha y Hora en la que se hizo uso del Insumo\n",
    "- **ID_CONSUMO:** ID interno del Insumo\n",
    "- **CODIGO_MOVIMIENTO:** Codigo Interno...(?)\n",
    "- **TIPO_CONSUMO:** Categoria General en la que se dio uso el Insumo (EXA, RECETA)\n",
    "- **COD_CENTRO:** Codigo Interno del Centro Medico (?)\n",
    "- **COD_ISAPRE:** Codigo Interno de....(?)\n",
    "- **NOMBRE_GRUPO_ABA:** Nombre de la Categoria del Insumo\n",
    "- **NOMBRE_TIPO_ABA:** Nombre de la Sub Categoria del Insumo\n",
    "- **COD_PRODUCTO:** Codigo Interno del Insumo (Solo para los Insumos del tipo 'RECETA')\n",
    "- **COD_PRESTACION:** Codigo Interno de....(?)\n",
    "- **NOMBRE:** Nombre del Insumo\n",
    "- **NOMBRE_EMBALAJE:** Formato y Unidad de Medida del Insumo\n",
    "- **AFECTO:** (?)\n",
    "- **EXENTO:** (?)\n",
    "- **IVA:** (?)\n",
    "- **TOTAL:** (?)\n",
    "- **CANTIDAD:** (?)\n",
    "- **COSTO:** (?)\n",
    "- **RECARGO:** (?)\n"
   ]
  },
  {
   "cell_type": "markdown",
   "id": "be8b1150-9968-4d2d-bcd8-feb5c0eff6ce",
   "metadata": {},
   "source": [
    "**De los Excel's anteriores se utilizarán solamente los siguientes atributos:**\n",
    "- ID_INGRESO\n",
    "- DV_ID_INGRESO\n",
    "- DESC_ITEM\n",
    "- ID_CONSUMO\n",
    "- TIPO_CONSUMO\n",
    "- NOMBRE_GRUPO_ABA\n",
    "- NOMBRE_TIPO_ABA\n",
    "- NOMBRE\n",
    "- NOMBRE_EMBALAJE\n"
   ]
  },
  {
   "cell_type": "markdown",
   "id": "20f40857-1d06-45d0-adbd-16962ae09546",
   "metadata": {},
   "source": [
    "***Se Utilizará ID_INGRESO para el cruce de todos los archivos**"
   ]
  },
  {
   "cell_type": "markdown",
   "id": "f7ea97eb-820c-4fc9-8373-b594eb4d26be",
   "metadata": {},
   "source": [
    "# Importar Archivos EXCEL"
   ]
  },
  {
   "cell_type": "code",
   "execution_count": 1,
   "id": "5930cdb1-c6da-4389-929a-78ec0d2887b3",
   "metadata": {},
   "outputs": [],
   "source": [
    "import pandas as pd\n",
    "import numpy as np\n",
    "import openpyxl\n",
    "import matplotlib.pyplot as plt\n",
    "import seaborn as sns\n",
    "import warnings\n",
    "warnings.filterwarnings(\"ignore\")\n",
    "\n",
    "# Removes the limit for the number of displayed columns\n",
    "pd.set_option(\"display.max_columns\", None)\n",
    "\n",
    "# Removes the limit for the number of displayed rows\n",
    "pd.set_option(\"display.max_rows\", None)\n",
    "\n",
    "# To build models for prediction\n",
    "from sklearn.model_selection import train_test_split, cross_val_score, KFold\n",
    "from sklearn.linear_model import LinearRegression, Ridge, Lasso\n",
    "from sklearn.tree import DecisionTreeRegressor\n",
    "from sklearn.ensemble import RandomForestRegressor,BaggingRegressor\n",
    "\n",
    "# To encode categorical variables\n",
    "from sklearn.preprocessing import LabelEncoder\n",
    "\n",
    "# For tuning the model\n",
    "from sklearn.model_selection import GridSearchCV\n",
    "\n",
    "# To check model performance\n",
    "from sklearn.metrics import make_scorer,mean_squared_error, r2_score, mean_absolute_error"
   ]
  },
  {
   "cell_type": "code",
   "execution_count": 2,
   "id": "f2501350-56da-4745-8d78-42de9c38fc52",
   "metadata": {},
   "outputs": [],
   "source": [
    "#Importar Tratamiento de Datos\n",
    "Trat_Dat = pd.read_excel('Tratamiento de Datos.xlsx', sheet_name= \"Tabla Consolidada Filtrada\")\n",
    "\n",
    "#Extraer Solo las Columnas deseadas:\n",
    "columnas_deseadas = [\"INGRESO\", \"ID_INGRESO\", \"ELEC_URG\", \"AMB_HOSP\", \"DURPAB\", \"STAFF\", \"ESPECIALIDAD_MEDICO\", \"COMUNA\", \"EDAD\", \"ASEGURADOR\", \"IPLAN\", \"COD_CIRUGIAS\", \"Nombre_CIRUJANO\", \"Cantidad_Cirugias\"]\n",
    "\n",
    "# Seleccionar solo las columnas deseadas de Trat_Dat\n",
    "Trat_Dat_Final = Trat_Dat.loc[:, columnas_deseadas]\n"
   ]
  },
  {
   "cell_type": "code",
   "execution_count": 3,
   "id": "5d6668af-aa50-4651-bb3b-57534628f879",
   "metadata": {},
   "outputs": [],
   "source": [
    "#Importar \"COSTOS\"\n",
    "\n",
    "archivos = ['01-03 22.xlsx', '04-06 22.xlsx', '07-09 22.xlsx', '10-12 22.xlsx',\n",
    "            '01-03 23.xlsx', '04-06 23.xlsx', '07-09 23.xlsx', '10-12 23.xlsx']\n",
    "\n",
    "dataframes_concatenados = {}\n",
    "\n",
    "for archivo in archivos:\n",
    "    excel_file = pd.ExcelFile(archivo)\n",
    "    hojas = excel_file.sheet_names[:-1]  # Excluir la última hoja\n",
    "    dfs = []\n",
    "    for hoja in hojas:\n",
    "        df = pd.read_excel(excel_file, sheet_name=hoja)\n",
    "        dfs.append(df)\n",
    "    dataframes_concatenados[archivo] = pd.concat(dfs, ignore_index=True)\n",
    "    excel_file.close()\n",
    "\n",
    "tabla_final = pd.concat(dataframes_concatenados.values(), ignore_index=True)"
   ]
  },
  {
   "cell_type": "code",
   "execution_count": 4,
   "id": "88006421-a3b9-4469-bc75-de7f745687c9",
   "metadata": {},
   "outputs": [],
   "source": [
    "#tabla_final.head(5) #Comprobacion de la consolidacion de los archivos"
   ]
  },
  {
   "cell_type": "code",
   "execution_count": 5,
   "id": "19a25936-d396-42e8-9a92-fec337ffbbb1",
   "metadata": {},
   "outputs": [],
   "source": [
    "#Extraer Solo las Columnas deseadas:\n",
    "columnas_deseadas1 = [\"ID_INGRESO\", \"DV_ID_INGRESO\", \"DESC_ITEM\", \"ID_CONSUMO\", \n",
    "                     \"TIPO_CONSUMO\", \"NOMBRE_GRUPO_ABA\", \"NOMBRE_TIPO_ABA\", \n",
    "                     \"NOMBRE\", \"NOMBRE_EMBALAJE\"]\n",
    "\n",
    "# Seleccionar solo las columnas deseadas de tabla_final\n",
    "Costos_Final = tabla_final.loc[:, columnas_deseadas1]\n"
   ]
  },
  {
   "cell_type": "code",
   "execution_count": 6,
   "id": "f2077cee-1de9-4278-a159-a19329dacd54",
   "metadata": {},
   "outputs": [
    {
     "ename": "ValueError",
     "evalue": "This sheet is too large! Your sheet size is: 7112622, 22 Max sheet size is: 1048576, 16384",
     "output_type": "error",
     "traceback": [
      "\u001b[1;31m---------------------------------------------------------------------------\u001b[0m",
      "\u001b[1;31mValueError\u001b[0m                                Traceback (most recent call last)",
      "Cell \u001b[1;32mIn[6], line 6\u001b[0m\n\u001b[0;32m      4\u001b[0m \u001b[38;5;66;03m# Guardar el DataFrame como un archivo Excel\u001b[39;00m\n\u001b[0;32m      5\u001b[0m Cruce_Final_Ex \u001b[38;5;241m=\u001b[39m \u001b[38;5;124m\"\u001b[39m\u001b[38;5;124mCruce_Final_Ex.xlsx\u001b[39m\u001b[38;5;124m\"\u001b[39m\n\u001b[1;32m----> 6\u001b[0m Cruce_Final\u001b[38;5;241m.\u001b[39mto_excel(Cruce_Final_Ex, index\u001b[38;5;241m=\u001b[39m\u001b[38;5;28;01mFalse\u001b[39;00m)\n",
      "File \u001b[1;32m~\\anaconda3\\Lib\\site-packages\\pandas\\core\\generic.py:2345\u001b[0m, in \u001b[0;36mNDFrame.to_excel\u001b[1;34m(self, excel_writer, sheet_name, na_rep, float_format, columns, header, index, index_label, startrow, startcol, engine, merge_cells, inf_rep, freeze_panes, storage_options, engine_kwargs)\u001b[0m\n\u001b[0;32m   2332\u001b[0m \u001b[38;5;28;01mfrom\u001b[39;00m \u001b[38;5;21;01mpandas\u001b[39;00m\u001b[38;5;21;01m.\u001b[39;00m\u001b[38;5;21;01mio\u001b[39;00m\u001b[38;5;21;01m.\u001b[39;00m\u001b[38;5;21;01mformats\u001b[39;00m\u001b[38;5;21;01m.\u001b[39;00m\u001b[38;5;21;01mexcel\u001b[39;00m \u001b[38;5;28;01mimport\u001b[39;00m ExcelFormatter\n\u001b[0;32m   2334\u001b[0m formatter \u001b[38;5;241m=\u001b[39m ExcelFormatter(\n\u001b[0;32m   2335\u001b[0m     df,\n\u001b[0;32m   2336\u001b[0m     na_rep\u001b[38;5;241m=\u001b[39mna_rep,\n\u001b[1;32m   (...)\u001b[0m\n\u001b[0;32m   2343\u001b[0m     inf_rep\u001b[38;5;241m=\u001b[39minf_rep,\n\u001b[0;32m   2344\u001b[0m )\n\u001b[1;32m-> 2345\u001b[0m formatter\u001b[38;5;241m.\u001b[39mwrite(\n\u001b[0;32m   2346\u001b[0m     excel_writer,\n\u001b[0;32m   2347\u001b[0m     sheet_name\u001b[38;5;241m=\u001b[39msheet_name,\n\u001b[0;32m   2348\u001b[0m     startrow\u001b[38;5;241m=\u001b[39mstartrow,\n\u001b[0;32m   2349\u001b[0m     startcol\u001b[38;5;241m=\u001b[39mstartcol,\n\u001b[0;32m   2350\u001b[0m     freeze_panes\u001b[38;5;241m=\u001b[39mfreeze_panes,\n\u001b[0;32m   2351\u001b[0m     engine\u001b[38;5;241m=\u001b[39mengine,\n\u001b[0;32m   2352\u001b[0m     storage_options\u001b[38;5;241m=\u001b[39mstorage_options,\n\u001b[0;32m   2353\u001b[0m     engine_kwargs\u001b[38;5;241m=\u001b[39mengine_kwargs,\n\u001b[0;32m   2354\u001b[0m )\n",
      "File \u001b[1;32m~\\anaconda3\\Lib\\site-packages\\pandas\\io\\formats\\excel.py:932\u001b[0m, in \u001b[0;36mExcelFormatter.write\u001b[1;34m(self, writer, sheet_name, startrow, startcol, freeze_panes, engine, storage_options, engine_kwargs)\u001b[0m\n\u001b[0;32m    930\u001b[0m num_rows, num_cols \u001b[38;5;241m=\u001b[39m \u001b[38;5;28mself\u001b[39m\u001b[38;5;241m.\u001b[39mdf\u001b[38;5;241m.\u001b[39mshape\n\u001b[0;32m    931\u001b[0m \u001b[38;5;28;01mif\u001b[39;00m num_rows \u001b[38;5;241m>\u001b[39m \u001b[38;5;28mself\u001b[39m\u001b[38;5;241m.\u001b[39mmax_rows \u001b[38;5;129;01mor\u001b[39;00m num_cols \u001b[38;5;241m>\u001b[39m \u001b[38;5;28mself\u001b[39m\u001b[38;5;241m.\u001b[39mmax_cols:\n\u001b[1;32m--> 932\u001b[0m     \u001b[38;5;28;01mraise\u001b[39;00m \u001b[38;5;167;01mValueError\u001b[39;00m(\n\u001b[0;32m    933\u001b[0m         \u001b[38;5;124mf\u001b[39m\u001b[38;5;124m\"\u001b[39m\u001b[38;5;124mThis sheet is too large! Your sheet size is: \u001b[39m\u001b[38;5;132;01m{\u001b[39;00mnum_rows\u001b[38;5;132;01m}\u001b[39;00m\u001b[38;5;124m, \u001b[39m\u001b[38;5;132;01m{\u001b[39;00mnum_cols\u001b[38;5;132;01m}\u001b[39;00m\u001b[38;5;124m \u001b[39m\u001b[38;5;124m\"\u001b[39m\n\u001b[0;32m    934\u001b[0m         \u001b[38;5;124mf\u001b[39m\u001b[38;5;124m\"\u001b[39m\u001b[38;5;124mMax sheet size is: \u001b[39m\u001b[38;5;132;01m{\u001b[39;00m\u001b[38;5;28mself\u001b[39m\u001b[38;5;241m.\u001b[39mmax_rows\u001b[38;5;132;01m}\u001b[39;00m\u001b[38;5;124m, \u001b[39m\u001b[38;5;132;01m{\u001b[39;00m\u001b[38;5;28mself\u001b[39m\u001b[38;5;241m.\u001b[39mmax_cols\u001b[38;5;132;01m}\u001b[39;00m\u001b[38;5;124m\"\u001b[39m\n\u001b[0;32m    935\u001b[0m     )\n\u001b[0;32m    937\u001b[0m \u001b[38;5;28;01mif\u001b[39;00m engine_kwargs \u001b[38;5;129;01mis\u001b[39;00m \u001b[38;5;28;01mNone\u001b[39;00m:\n\u001b[0;32m    938\u001b[0m     engine_kwargs \u001b[38;5;241m=\u001b[39m {}\n",
      "\u001b[1;31mValueError\u001b[0m: This sheet is too large! Your sheet size is: 7112622, 22 Max sheet size is: 1048576, 16384"
     ]
    }
   ],
   "source": [
    "#Cruce entre los Dataframes de Consumos y Datos Pacientes de \"Tratamiento de Datos\"\n",
    "Cruce_Final = pd.merge(Trat_Dat_Final, Costos_Final, on=\"ID_INGRESO\", how=\"inner\")\n",
    "\n",
    "# Guardar el DataFrame como un archivo Excel\n",
    "#Cruce_Final_Ex = \"Cruce_Final_Ex.xlsx\"\n",
    "#Cruce_Final.to_excel(Cruce_Final_Ex, index=False) #NO SE PUDO POR EXCEDER EL NUMERO MAX DE FILAS (7.112.622, 22)"
   ]
  },
  {
   "cell_type": "code",
   "execution_count": 7,
   "id": "49e072cb-8a6c-41de-acfd-dc70a4be9377",
   "metadata": {},
   "outputs": [],
   "source": [
    "# Guarda el DataFrame como un archivo CSV\n",
    "\n",
    "Cruce_Final_Ex = \"Cruce_Final_Ex.csv\"\n",
    "\n",
    "Cruce_Final.to_csv(Cruce_Final_Ex, index=False)\n"
   ]
  },
  {
   "cell_type": "code",
   "execution_count": 12,
   "id": "962086cc-080a-4801-8a81-834fdc03be42",
   "metadata": {},
   "outputs": [
    {
     "name": "stdout",
     "output_type": "stream",
     "text": [
      "Index(['INGRESO', 'ID_INGRESO', 'ELEC_URG', 'AMB_HOSP', 'DURPAB', 'STAFF',\n",
      "       'ESPECIALIDAD_MEDICO', 'COMUNA', 'EDAD', 'ASEGURADOR', 'IPLAN',\n",
      "       'COD_CIRUGIAS', 'Nombre_CIRUJANO', 'Cantidad_Cirugias', 'DV_ID_INGRESO',\n",
      "       'DESC_ITEM', 'ID_CONSUMO', 'TIPO_CONSUMO', 'NOMBRE_GRUPO_ABA',\n",
      "       'NOMBRE_TIPO_ABA', 'NOMBRE', 'NOMBRE_EMBALAJE'],\n",
      "      dtype='object')\n"
     ]
    }
   ],
   "source": [
    "print(Cruce_Final.columns)"
   ]
  },
  {
   "cell_type": "code",
   "execution_count": 13,
   "id": "fcabb98c-9644-40c9-b8cf-27e4309222fd",
   "metadata": {},
   "outputs": [
    {
     "name": "stdout",
     "output_type": "stream",
     "text": [
      "                                        COD_CIRUGIAS  Promedio_DURPAB  \\\n",
      "0          11-03-011-00|11-03-015-00|11-03-005-00|-1        74.615385   \n",
      "1                              11-03-026-00|-1|-1|-1       234.410905   \n",
      "2                              11-03-042-00|-1|-1|-1       107.283123   \n",
      "3                    11-03-043-00|11-03-043-00|-1|-1       137.611225   \n",
      "4                              17-50-061-00|-1|-1|-1       108.846154   \n",
      "5                              17-50-062-00|-1|-1|-1       165.750000   \n",
      "6  17-50-207-00|11-50-027-12|17-50-210-00|17-50-2...       102.222222   \n",
      "7                              18-02-001-00|-1|-1|-1        62.899734   \n",
      "8                              18-02-081-00|-1|-1|-1        63.338527   \n",
      "9                              18-50-004-00|-1|-1|-1        91.521344   \n",
      "\n",
      "   Min_DURPAB  Max_DURPAB  Desviacion_Estandar_DURPAB  \n",
      "0          14         150                   45.885441  \n",
      "1          30         480                  161.841752  \n",
      "2          27         148                   43.602599  \n",
      "3          30         288                   70.771367  \n",
      "4          30         410                   96.399738  \n",
      "5          30         540                  152.689915  \n",
      "6          40         120                   33.259319  \n",
      "7          17         240                   28.583919  \n",
      "8          14         300                   34.409963  \n",
      "9          20         331                   41.973250  \n"
     ]
    }
   ],
   "source": [
    "# Sacando los datos de \"Cruce_Final\"para definir el top 10 de 'COD_CIRUGIAS' y su correspondiente promedio, min, max y devest de \"DURPAB\"\n",
    "\n",
    "# Top 10 'COD_CIRUGIAS' más frecuentes\n",
    "top_10_cirugias = Cruce_Final['COD_CIRUGIAS'].value_counts().head(10).index.tolist()\n",
    "\n",
    "# Filtro del DataFrame original para obtener solo las filas del top 10 cirugías más frecuentes\n",
    "datos_top_10 = Cruce_Final[Cruce_Final['COD_CIRUGIAS'].isin(top_10_cirugias)]\n",
    "\n",
    "# Promedio, mínimo, máximo y la desviación estándar de 'DURPAB' para estas top 10 cirugías\n",
    "top_10_stats = datos_top_10.groupby('COD_CIRUGIAS')['DURPAB'].agg(['mean', 'min', 'max', 'std']).reset_index()\n",
    "\n",
    "# Cambiando el nombre de las columnas con sus respectivos estadisticos\n",
    "top_10_stats.columns = ['COD_CIRUGIAS', 'Promedio_DURPAB', 'Min_DURPAB', 'Max_DURPAB', 'Desviacion_Estandar_DURPAB']\n",
    "\n",
    "# Guardado de resultados en un DataFrame 'Top_10_Cirugias'\n",
    "Top_10_Cirugias = top_10_stats.copy()\n",
    "\n",
    "# Mostramos el DataFrame para probarlo:\n",
    "print(Top_10_Cirugias)"
   ]
  },
  {
   "cell_type": "code",
   "execution_count": null,
   "id": "864515a2-5f46-4b58-8e74-fcc7fbf940f9",
   "metadata": {},
   "outputs": [],
   "source": [
    "#Para un grafico bonito:\n",
    "\n",
    "from tabulate import tabulate\n",
    "\n",
    "# Supongamos que tienes un DataFrame llamado 'datos' que contiene la información de las cirugías\n",
    "# y sus duraciones, y que 'COD_CIRUGIAS' es una columna en ese DataFrame.\n",
    "\n",
    "# Primero, calculamos las 10 'COD_CIRUGIAS' más frecuentes\n",
    "top_10_cirugias = datos['COD_CIRUGIAS'].value_counts().head(10).index.tolist()\n",
    "\n",
    "# Luego, filtramos el DataFrame original para obtener solo las filas correspondientes a las 10 cirugías más frecuentes\n",
    "datos_top_10 = datos[datos['COD_CIRUGIAS'].isin(top_10_cirugias)]\n",
    "\n",
    "# Calculamos el promedio, el valor mínimo, máximo y la desviación estándar de 'DURPAB' para estas cirugías\n",
    "top_10_stats = datos_top_10.groupby('COD_CIRUGIAS')['DURPAB'].agg(['mean', 'min', 'max', 'std']).reset_index()\n",
    "\n",
    "# Cambiamos el nombre de las columnas para mayor claridad\n",
    "top_10_stats.columns = ['COD_CIRUGIAS', 'Promedio_DURPAB', 'Min_DURPAB', 'Max_DURPAB', 'Desviacion_Estandar_DURPAB']\n",
    "\n",
    "# Ordenamos los datos por 'Promedio_DURPAB' en orden descendente\n",
    "top_10_stats = top_10_stats.sort_values(by='Promedio_DURPAB', ascending=False)\n",
    "\n",
    "# Mostramos los resultados usando tabulate\n",
    "print(tabulate(top_10_stats, headers='keys', tablefmt='pretty', showindex=False))\n",
    "\n"
   ]
  }
 ],
 "metadata": {
  "kernelspec": {
   "display_name": "Python 3 (ipykernel)",
   "language": "python",
   "name": "python3"
  },
  "language_info": {
   "codemirror_mode": {
    "name": "ipython",
    "version": 3
   },
   "file_extension": ".py",
   "mimetype": "text/x-python",
   "name": "python",
   "nbconvert_exporter": "python",
   "pygments_lexer": "ipython3",
   "version": "3.11.7"
  }
 },
 "nbformat": 4,
 "nbformat_minor": 5
}
